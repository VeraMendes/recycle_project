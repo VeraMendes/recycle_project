{
  "nbformat": 4,
  "nbformat_minor": 0,
  "metadata": {
    "colab": {
      "name": "Pytrends.ipynb",
      "provenance": [],
      "authorship_tag": "ABX9TyN5Ozyh6cutGyLD0OIjKuQy",
      "include_colab_link": true
    },
    "kernelspec": {
      "name": "python3",
      "display_name": "Python 3"
    }
  },
  "cells": [
    {
      "cell_type": "markdown",
      "metadata": {
        "id": "view-in-github",
        "colab_type": "text"
      },
      "source": [
        "<a href=\"https://colab.research.google.com/github/VeraMendes/recycle_project/blob/master/Pytrends.ipynb\" target=\"_parent\"><img src=\"https://colab.research.google.com/assets/colab-badge.svg\" alt=\"Open In Colab\"/></a>"
      ]
    },
    {
      "cell_type": "code",
      "metadata": {
        "id": "3-s6-qoL0-DX",
        "colab_type": "code",
        "colab": {
          "base_uri": "https://localhost:8080/",
          "height": 372
        },
        "outputId": "9fd66e78-c376-45e3-8c74-1b20235f6700"
      },
      "source": [
        "# using pytrends to check tendencies\n",
        "pip install pytrends"
      ],
      "execution_count": 1,
      "outputs": [
        {
          "output_type": "stream",
          "text": [
            "Collecting pytrends\n",
            "  Downloading https://files.pythonhosted.org/packages/74/a4/c1b1242be7d31650c6d9128a776c753db18f0e83290aaea0dd80dd31374b/pytrends-4.7.2.tar.gz\n",
            "Requirement already satisfied: requests in /usr/local/lib/python3.6/dist-packages (from pytrends) (2.21.0)\n",
            "Requirement already satisfied: pandas in /usr/local/lib/python3.6/dist-packages (from pytrends) (0.25.3)\n",
            "Requirement already satisfied: lxml in /usr/local/lib/python3.6/dist-packages (from pytrends) (4.2.6)\n",
            "Requirement already satisfied: certifi>=2017.4.17 in /usr/local/lib/python3.6/dist-packages (from requests->pytrends) (2019.11.28)\n",
            "Requirement already satisfied: chardet<3.1.0,>=3.0.2 in /usr/local/lib/python3.6/dist-packages (from requests->pytrends) (3.0.4)\n",
            "Requirement already satisfied: idna<2.9,>=2.5 in /usr/local/lib/python3.6/dist-packages (from requests->pytrends) (2.8)\n",
            "Requirement already satisfied: urllib3<1.25,>=1.21.1 in /usr/local/lib/python3.6/dist-packages (from requests->pytrends) (1.24.3)\n",
            "Requirement already satisfied: numpy>=1.13.3 in /usr/local/lib/python3.6/dist-packages (from pandas->pytrends) (1.17.5)\n",
            "Requirement already satisfied: python-dateutil>=2.6.1 in /usr/local/lib/python3.6/dist-packages (from pandas->pytrends) (2.6.1)\n",
            "Requirement already satisfied: pytz>=2017.2 in /usr/local/lib/python3.6/dist-packages (from pandas->pytrends) (2018.9)\n",
            "Requirement already satisfied: six>=1.5 in /usr/local/lib/python3.6/dist-packages (from python-dateutil>=2.6.1->pandas->pytrends) (1.12.0)\n",
            "Building wheels for collected packages: pytrends\n",
            "  Building wheel for pytrends (setup.py) ... \u001b[?25l\u001b[?25hdone\n",
            "  Created wheel for pytrends: filename=pytrends-4.7.2-cp36-none-any.whl size=14260 sha256=7502e21c0c59382843fd2c7c41de6f90af047f013a1f017750eb0a5cda62e274\n",
            "  Stored in directory: /root/.cache/pip/wheels/64/ae/af/51d48fbbca0563036c6f80999b7ce3f097fa591fd165047baf\n",
            "Successfully built pytrends\n",
            "Installing collected packages: pytrends\n",
            "Successfully installed pytrends-4.7.2\n"
          ],
          "name": "stdout"
        }
      ]
    },
    {
      "cell_type": "code",
      "metadata": {
        "id": "I0L9jwck1HeH",
        "colab_type": "code",
        "colab": {}
      },
      "source": [
        "import pandas as pd"
      ],
      "execution_count": 0,
      "outputs": []
    },
    {
      "cell_type": "code",
      "metadata": {
        "id": "EW7PUANH1J4p",
        "colab_type": "code",
        "colab": {}
      },
      "source": [
        "from pytrends.request import TrendReq\n",
        "\n",
        "pytrends = TrendReq(hl='en-US', tz=360)"
      ],
      "execution_count": 0,
      "outputs": []
    },
    {
      "cell_type": "code",
      "metadata": {
        "id": "JXGxdQUz2sVZ",
        "colab_type": "code",
        "colab": {}
      },
      "source": [
        "kw_list = ['recycle iron', 'recycle cardboard', 'recycle xray', 'recycle plastic bags', 'recycle cans']\n",
        "pytrends.build_payload(kw_list, cat=0, timeframe='today 5-y', geo='', gprop='')"
      ],
      "execution_count": 0,
      "outputs": []
    },
    {
      "cell_type": "code",
      "metadata": {
        "id": "ehm0kPEa127d",
        "colab_type": "code",
        "colab": {
          "base_uri": "https://localhost:8080/",
          "height": 436
        },
        "outputId": "c4063da1-b2e6-4ef0-ea69-a1de84fa9d12"
      },
      "source": [
        "# looking into recycling interests overtime\n",
        "pytrends.interest_over_time()"
      ],
      "execution_count": 17,
      "outputs": [
        {
          "output_type": "execute_result",
          "data": {
            "text/html": [
              "<div>\n",
              "<style scoped>\n",
              "    .dataframe tbody tr th:only-of-type {\n",
              "        vertical-align: middle;\n",
              "    }\n",
              "\n",
              "    .dataframe tbody tr th {\n",
              "        vertical-align: top;\n",
              "    }\n",
              "\n",
              "    .dataframe thead th {\n",
              "        text-align: right;\n",
              "    }\n",
              "</style>\n",
              "<table border=\"1\" class=\"dataframe\">\n",
              "  <thead>\n",
              "    <tr style=\"text-align: right;\">\n",
              "      <th></th>\n",
              "      <th>recycle iron</th>\n",
              "      <th>recycle cardboard</th>\n",
              "      <th>recycle xray</th>\n",
              "      <th>recycle plastic bags</th>\n",
              "      <th>recycle cans</th>\n",
              "      <th>isPartial</th>\n",
              "    </tr>\n",
              "    <tr>\n",
              "      <th>date</th>\n",
              "      <th></th>\n",
              "      <th></th>\n",
              "      <th></th>\n",
              "      <th></th>\n",
              "      <th></th>\n",
              "      <th></th>\n",
              "    </tr>\n",
              "  </thead>\n",
              "  <tbody>\n",
              "    <tr>\n",
              "      <th>2015-01-25</th>\n",
              "      <td>6</td>\n",
              "      <td>19</td>\n",
              "      <td>0</td>\n",
              "      <td>22</td>\n",
              "      <td>34</td>\n",
              "      <td>False</td>\n",
              "    </tr>\n",
              "    <tr>\n",
              "      <th>2015-02-01</th>\n",
              "      <td>10</td>\n",
              "      <td>22</td>\n",
              "      <td>0</td>\n",
              "      <td>19</td>\n",
              "      <td>36</td>\n",
              "      <td>False</td>\n",
              "    </tr>\n",
              "    <tr>\n",
              "      <th>2015-02-08</th>\n",
              "      <td>10</td>\n",
              "      <td>22</td>\n",
              "      <td>0</td>\n",
              "      <td>22</td>\n",
              "      <td>47</td>\n",
              "      <td>False</td>\n",
              "    </tr>\n",
              "    <tr>\n",
              "      <th>2015-02-15</th>\n",
              "      <td>4</td>\n",
              "      <td>24</td>\n",
              "      <td>0</td>\n",
              "      <td>19</td>\n",
              "      <td>47</td>\n",
              "      <td>False</td>\n",
              "    </tr>\n",
              "    <tr>\n",
              "      <th>2015-02-22</th>\n",
              "      <td>8</td>\n",
              "      <td>26</td>\n",
              "      <td>0</td>\n",
              "      <td>22</td>\n",
              "      <td>39</td>\n",
              "      <td>False</td>\n",
              "    </tr>\n",
              "    <tr>\n",
              "      <th>...</th>\n",
              "      <td>...</td>\n",
              "      <td>...</td>\n",
              "      <td>...</td>\n",
              "      <td>...</td>\n",
              "      <td>...</td>\n",
              "      <td>...</td>\n",
              "    </tr>\n",
              "    <tr>\n",
              "      <th>2019-12-22</th>\n",
              "      <td>5</td>\n",
              "      <td>55</td>\n",
              "      <td>0</td>\n",
              "      <td>44</td>\n",
              "      <td>66</td>\n",
              "      <td>False</td>\n",
              "    </tr>\n",
              "    <tr>\n",
              "      <th>2019-12-29</th>\n",
              "      <td>12</td>\n",
              "      <td>78</td>\n",
              "      <td>0</td>\n",
              "      <td>60</td>\n",
              "      <td>94</td>\n",
              "      <td>False</td>\n",
              "    </tr>\n",
              "    <tr>\n",
              "      <th>2020-01-05</th>\n",
              "      <td>9</td>\n",
              "      <td>49</td>\n",
              "      <td>0</td>\n",
              "      <td>53</td>\n",
              "      <td>85</td>\n",
              "      <td>False</td>\n",
              "    </tr>\n",
              "    <tr>\n",
              "      <th>2020-01-12</th>\n",
              "      <td>7</td>\n",
              "      <td>49</td>\n",
              "      <td>0</td>\n",
              "      <td>48</td>\n",
              "      <td>73</td>\n",
              "      <td>False</td>\n",
              "    </tr>\n",
              "    <tr>\n",
              "      <th>2020-01-19</th>\n",
              "      <td>14</td>\n",
              "      <td>40</td>\n",
              "      <td>0</td>\n",
              "      <td>40</td>\n",
              "      <td>88</td>\n",
              "      <td>True</td>\n",
              "    </tr>\n",
              "  </tbody>\n",
              "</table>\n",
              "<p>261 rows × 6 columns</p>\n",
              "</div>"
            ],
            "text/plain": [
              "            recycle iron  recycle cardboard  ...  recycle cans  isPartial\n",
              "date                                         ...                         \n",
              "2015-01-25             6                 19  ...            34      False\n",
              "2015-02-01            10                 22  ...            36      False\n",
              "2015-02-08            10                 22  ...            47      False\n",
              "2015-02-15             4                 24  ...            47      False\n",
              "2015-02-22             8                 26  ...            39      False\n",
              "...                  ...                ...  ...           ...        ...\n",
              "2019-12-22             5                 55  ...            66      False\n",
              "2019-12-29            12                 78  ...            94      False\n",
              "2020-01-05             9                 49  ...            85      False\n",
              "2020-01-12             7                 49  ...            73      False\n",
              "2020-01-19            14                 40  ...            88       True\n",
              "\n",
              "[261 rows x 6 columns]"
            ]
          },
          "metadata": {
            "tags": []
          },
          "execution_count": 17
        }
      ]
    },
    {
      "cell_type": "code",
      "metadata": {
        "id": "dq5cgXXR5UGo",
        "colab_type": "code",
        "colab": {}
      },
      "source": [
        "# items from research\n",
        "words = [ '#6 Plastic - Expanded', 'Aerosol Cans - Full', 'Alkaline Batteries', 'Aluminum Foil', 'Antifreeze', 'Asphalt', 'Auto Parts', 'Brick', 'Brush', 'CD Cases', 'CDs', 'Cables', 'Car Batteries', 'Carpet', 'Cell Phone Accessories', 'Cell Phones', 'Chip Bags', 'Christmas Trees', 'Clothing', 'Concrete', 'Cooking Oil', 'Cookware', 'Corks', 'Corrugated Cardboard', 'Crayons', 'DVDs', 'Dirt', 'Doors', 'Envelopes', 'Eyeglasses', 'Fabric', 'Fire Extinguishers', 'Floppy Disks', 'Fluorescent Tubes', 'Gasoline', 'Hair', 'Halogen Bulbs', 'Hard Drives', 'Hardware', 'Leaves', 'Lithium Batteries', 'Lumber', 'Magazines', 'Mattresses', 'Microwaves', 'Mixed Paper', 'Motor Oil', 'Nail Polish', 'Newspaper', 'Office Paper', 'Oil Filters', 'Pallets', 'Paper Cups', 'Phone Books', 'Pizza Boxes', 'Printers', 'Propane Tanks', 'Refrigerators', 'Sand', 'Shoes', 'Small Appliances', 'Smoke Detectors', 'Steel Cans', 'Stone', 'Tablets', 'Tile', 'Tires', 'Toner Cartridges', 'Tools', 'Toothbrushes', 'Toothpaste Tubes', 'Toys', 'Transmission Fluid', 'Trophies', 'Vehicles', 'Water Filters', 'Windows', 'Wood', 'Yard Waste']"
      ],
      "execution_count": 0,
      "outputs": []
    },
    {
      "cell_type": "code",
      "metadata": {
        "id": "4Zw0mTTD7aXB",
        "colab_type": "code",
        "colab": {}
      },
      "source": [
        "words1 = ['#6 Plastic - Expanded', 'Aerosol Cans - Full', 'Alkaline Batteries', 'Aluminum Foil', 'Antifreeze']\n",
        "words2 = ['Asphalt', 'Auto Parts', 'Brick', 'Brush', 'CD Cases']\n",
        "words3 = ['CDs', 'Cables', 'Car Batteries', 'Carpet', 'Cell Phone Accessories']\n",
        "words4 = ['Cell Phones', 'Chip Bags', 'Christmas Trees', 'Clothing', 'Concrete']\n",
        "words5 = ['Cooking Oil', 'Cookware', 'Corks', 'Corrugated Cardboard', 'Crayons']\n",
        "words6 = ['DVDs', 'Dirt', 'Doors', 'Envelopes', 'Eyeglasses']\n",
        "words7 = ['Fabric', 'Fire Extinguishers', 'Floppy Disks', 'Fluorescent Tubes', 'Gasoline']\n",
        "words8 = []"
      ],
      "execution_count": 0,
      "outputs": []
    },
    {
      "cell_type": "code",
      "metadata": {
        "id": "QZQiw9snTejy",
        "colab_type": "code",
        "colab": {}
      },
      "source": [
        "# items from research grouped 5 by 5\n",
        "words = [ ['#6 Plastic - Expanded', 'Aerosol Cans - Full', 'Alkaline Batteries', 'Aluminum Foil', 'Antifreeze'], ['Asphalt', 'Auto Parts', 'Brick', 'Brush', 'CD Cases'], ['CDs', 'Cables', 'Car Batteries', 'Carpet', 'Cell Phone Accessories'], ['Cell Phones', 'Chip Bags', 'Christmas Trees', 'Clothing', 'Concrete'], ['Cooking Oil', 'Cookware', 'Corks', 'Corrugated Cardboard', 'Crayons'], ['DVDs', 'Dirt', 'Doors', 'Envelopes', 'Eyeglasses'], ['Fabric', 'Fire Extinguishers', 'Floppy Disks', 'Fluorescent Tubes', 'Gasoline'], ['Hair', 'Halogen Bulbs', 'Hard Drives', 'Hardware', 'Leaves'], ['Lithium Batteries', 'Lumber', 'Magazines', 'Mattresses', 'Microwaves'], ['Mixed Paper', 'Motor Oil', 'Nail Polish', 'Newspaper', 'Office Paper'], ['Oil Filters', 'Pallets', 'Paper Cups', 'Phone Books', 'Pizza Boxes'], ['Printers', 'Propane Tanks', 'Refrigerators', 'Sand', 'Shoes'], ['Small Appliances', 'Smoke Detectors', 'Steel Cans', 'Stone', 'Tablets'], ['Tile', 'Tires', 'Toner Cartridges', 'Tools', 'Toothbrushes'], ['Toothpaste Tubes', 'Toys', 'Transmission Fluid', 'Trophies', 'Vehicles'], ['Water Filters', 'Windows', 'Wood', 'Yard Waste']]"
      ],
      "execution_count": 0,
      "outputs": []
    }
  ]
}